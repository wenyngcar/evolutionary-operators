{
 "cells": [
  {
   "cell_type": "code",
   "execution_count": null,
   "metadata": {},
   "outputs": [],
   "source": [
    "import random\n",
    "import griewank\n",
    "import ga_func\n",
    "\n",
    "def swap_mutation(solution):\n",
    "    dimension = len(solution)\n",
    "    index1 = random.randint(0, dimension - 1)\n",
    "    index2 = random.randint(0, dimension - 1)\n",
    "    while index1 == index2:\n",
    "        index2 = random.randint(0, dimension - 1)\n",
    "    \n",
    "    temp = solution[index1]\n",
    "    solution[index1] = solution[index2]\n",
    "    solution[index2] = temp\n",
    "\n",
    "    return solution\n",
    "\n",
    "def inverse_mutation(solution):\n",
    "    dimension = len(solution)\n",
    "    index1 = random.randint(0, dimension - 1)\n",
    "    index2 = random.randint(0, dimension - 1)\n",
    "    while index1 == index2:\n",
    "        index2 = random.randint(0, dimension - 1)\n",
    "    \n",
    "    if index2 < index1:\n",
    "        temp = index1\n",
    "        index1 = index2\n",
    "        index2 = temp\n",
    "\n",
    "    section = solution[index1:index2 + 1]\n",
    "    reverse = section[::-1]\n",
    "    solution[index1:index2 + 1] = reverse\n",
    "\n",
    "    return solution\n",
    "\n"
   ]
  },
  {
   "cell_type": "code",
   "execution_count": null,
   "metadata": {},
   "outputs": [],
   "source": [
    "population = []\n",
    "solution = []\n",
    "dimension = 10\n",
    "pop_size = 5\n",
    "\n",
    "# generate population\n",
    "for j in range(dimension):\n",
    "    solution = []\n",
    "    for i in range(dimension):\n",
    "        solution.append(griewank.random_decision(-10, 10))\n",
    "\n",
    "    population.append(solution)\n",
    "    print(f\"solution {j+1}: {population[j]}\")\n",
    "\n",
    "dimension = len(population)\n",
    "sol_fit = []\n",
    "for i in range(dimension):\n",
    "    sol_fit.append(griewank.griewank(population[i]))\n",
    "    print(f\"fitness values {i + 1}: {sol_fit[i]}\")\n",
    "\n",
    "for_roulette = griewank.strength(sol_fit, griewank.optimal_function)\n",
    "print(f\"strenght: {for_roulette}\")\n",
    "\n",
    "\n",
    "percent = ga_func.generate_wheel(for_roulette)\n",
    "parent1 = ga_func.select_parent(random.random(), percent)\n",
    "parent2 = ga_func.select_parent(random.random(), percent)\n",
    "print(f\"parent1: {parent1}\")\n",
    "print(f\"parent2: {parent2}\")"
   ]
  },
  {
   "cell_type": "code",
   "execution_count": null,
   "metadata": {},
   "outputs": [],
   "source": [
    "print(f\"Before swap mutation: {population[parent1 - 1]}\")\n",
    "population[parent1 - 1] = swap_mutation(population[parent1 - 1])\n",
    "print(f\"After swap mutation: {population[parent1 - 1]}\")"
   ]
  },
  {
   "cell_type": "code",
   "execution_count": null,
   "metadata": {},
   "outputs": [],
   "source": [
    "print(f\"Before inverse mutation: {population[parent2 - 1]}\")\n",
    "population[parent2 - 1] = inverse_mutation(population[parent2 - 1])\n",
    "print(f\"After inverse mutation: {population[parent2 - 1]}\")\n"
   ]
  }
 ],
 "metadata": {
  "language_info": {
   "name": "python"
  }
 },
 "nbformat": 4,
 "nbformat_minor": 2
}
