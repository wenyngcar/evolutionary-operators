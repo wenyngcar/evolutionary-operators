{
 "cells": [
  {
   "cell_type": "code",
   "execution_count": 1,
   "metadata": {},
   "outputs": [],
   "source": [
    "import griewank\n",
    "import random\n",
    "\n",
    "def generate_wheel(strength: list) -> list:\n",
    "    wheel = []\n",
    "    start = 0.0\n",
    "    end = strength[0]\n",
    "    pair = [start, end]\n",
    "    wheel.append(pair)\n",
    "\n",
    "    for num in strength:\n",
    "        pair = []\n",
    "        if num != 0:\n",
    "            start = end\n",
    "            end = start + num\n",
    "            pair.append(start)\n",
    "            pair.append(end)\n",
    "            wheel.append(pair)\n",
    "    \n",
    "    return wheel\n",
    "\n",
    "def select_parent(random_number: float, wheel: list):\n",
    "    for i in range(len(wheel)):\n",
    "        if random_number > wheel[i][0] and random_number < wheel[i][1]:\n",
    "            return i + 1\n",
    "        else: continue"
   ]
  },
  {
   "cell_type": "code",
   "execution_count": 2,
   "metadata": {},
   "outputs": [
    {
     "name": "stdout",
     "output_type": "stream",
     "text": [
      "solution 1: [7.6072735414392625, 0.16937827912435033, -0.12649660732755486, 7.718821916243304, -2.3413409216092074]\n",
      "solution 2: [9.466913584018243, 6.718902150878783, 6.2126823691196265, -6.937961129261943, 4.710076812389779]\n",
      "solution 3: [0.03167062681231414, 5.642557253772214, 9.568926926881765, 1.7521784288348385, 0.16527481680691913]\n",
      "solution 4: [1.4662995662858531, -4.980496236215377, 0.4752043604558551, 4.457656990247447, -0.4263227198044266]\n",
      "solution 5: [-8.2188949778601, -5.169230263602946, 5.783735808924158, -7.408535999592805, -9.075226448287872]\n"
     ]
    }
   ],
   "source": [
    "population = []\n",
    "dimension = 5\n",
    "\n",
    "for j in range(dimension):\n",
    "    solution = []\n",
    "    for i in range(dimension):\n",
    "        solution.append(griewank.random_decision(-10, 10))\n",
    "\n",
    "    population.append(solution)\n",
    "    print(f\"solution {j+1}: {population[j]}\")"
   ]
  },
  {
   "cell_type": "code",
   "execution_count": 3,
   "metadata": {},
   "outputs": [
    {
     "name": "stdout",
     "output_type": "stream",
     "text": [
      "fitness values 1: 1.1218364874977227\n",
      "fitness values 2: 1.0441086123649952\n",
      "fitness values 3: 1.3378841859000727\n",
      "fitness values 4: 0.9558212278611576\n",
      "fitness values 5: 1.2230349438747858\n",
      "strenght: [0.19984394061149693, 0.21472117146461484, 0.16757222093366625, 0.23455455669778377, 0.1833081102924382]\n"
     ]
    }
   ],
   "source": [
    "dimension = len(population)\n",
    "sol_fit = []\n",
    "for i in range(dimension):\n",
    "    sol_fit.append(griewank.griewank(population[i]))\n",
    "    print(f\"fitness values {i + 1}: {sol_fit[i]}\")\n",
    "\n",
    "for_roulette = griewank.strength(sol_fit, griewank.optimal_function)\n",
    "print(f\"strenght: {for_roulette}\")"
   ]
  },
  {
   "cell_type": "code",
   "execution_count": 4,
   "metadata": {},
   "outputs": [
    {
     "name": "stdout",
     "output_type": "stream",
     "text": [
      "parent1: 5\n",
      "parent2: 5\n"
     ]
    }
   ],
   "source": [
    "\n",
    "percent = generate_wheel(for_roulette)\n",
    "parent1 = select_parent(random.random(), percent)\n",
    "parent2 = select_parent(random.random(), percent)\n",
    "print(f\"parent1: {parent1}\")\n",
    "print(f\"parent2: {parent2}\")"
   ]
  },
  {
   "cell_type": "code",
   "execution_count": null,
   "metadata": {},
   "outputs": [],
   "source": []
  }
 ],
 "metadata": {
  "kernelspec": {
   "display_name": "Python 3 (ipykernel)",
   "language": "python",
   "name": "python3"
  },
  "language_info": {
   "codemirror_mode": {
    "name": "ipython",
    "version": 3
   },
   "file_extension": ".py",
   "mimetype": "text/x-python",
   "name": "python",
   "nbconvert_exporter": "python",
   "pygments_lexer": "ipython3",
   "version": "3.12.5"
  }
 },
 "nbformat": 4,
 "nbformat_minor": 4
}
