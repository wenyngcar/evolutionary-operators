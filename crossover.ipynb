{
 "cells": [
  {
   "cell_type": "code",
   "execution_count": 5,
   "metadata": {},
   "outputs": [],
   "source": [
    "import random\n",
    "import griewank\n",
    "import ga_func\n",
    "\n",
    "def onepoint_crossover(parent1, parent2):\n",
    "    dimension = len(parent1)\n",
    "    index = random.randint(0, dimension - 1)\n",
    "    while index == 0 or index == (dimension - 1):\n",
    "        index = random.randint(0, dimension - 1)\n",
    "\n",
    "    # Populate the child with the other half of each parent\n",
    "    child1 = parent1[0:index] + parent2[index:dimension]\n",
    "    child2 = parent2[0:index] + parent1[index:dimension]\n",
    "\n",
    "    return child1, child2\n",
    "\n",
    "def uniform_crossover(parent1, parent2):\n",
    "    dimension = len(parent1)\n",
    "    coin_bias = 0.50\n",
    "    child1 = []\n",
    "    child2 = []\n",
    "    for i in range(dimension):\n",
    "        random1 = random.random()\n",
    "        random2 = random.random()\n",
    "        child1.append(parent1[i]) if random1 < coin_bias else child1.append(parent2[i])\n",
    "        child2.append(parent1[i]) if random2 < coin_bias else child2.append(parent2[i])\n"
   ]
  },
  {
   "cell_type": "code",
   "execution_count": 6,
   "metadata": {},
   "outputs": [
    {
     "name": "stdout",
     "output_type": "stream",
     "text": [
      "solution 1: [6.927052444866483, 9.632463805280945, -2.227411622612678, -3.989082783561731, 4.8181607828561965, 1.608555150506687, 6.411175234643785, -8.726996239955248, 9.063656015338239, -6.718900833263913]\n",
      "solution 2: [0.32094808137073016, -5.989082521797744, 3.9263398816581496, -7.9868199467449985, 5.798225860881779, 2.139191302556023, 3.410239530912861, 4.789079947103863, 6.721249738557393, 7.505856614613155]\n",
      "solution 3: [-2.1767962815939317, -5.963856001077792, 7.844297859527604, 1.002106879912441, 0.9444332037194574, 1.2427030371667147, -3.747576022244732, 7.543817294369305, 4.914443004069625, -4.052598118526767]\n",
      "solution 4: [-3.835331325245197, 6.3916879512968165, -3.2395820290227073, -1.7934013411101333, -2.7401149380003726, -7.728512675473931, 0.9032634257644787, -3.0635673779555965, -7.382224107098779, 8.447721407086838]\n",
      "solution 5: [8.329583977161793, -2.987018897363118, 7.595664458885349, 3.36042471324539, -5.223344910053647, -4.434201429721901, 6.721546898611251, -4.670116956041843, 7.950548275353036, 6.941337849750429]\n",
      "solution 6: [8.785498392134986, -0.3155898825368979, 4.798719679689903, -1.992565018788401, 3.622231462324848, -9.629571699095257, 0.8541619359891719, -3.5843573917950255, -0.8953710059602482, 9.381802328172537]\n",
      "solution 7: [-2.3634639013265657, 1.1781259106009951, -0.3284466585008019, 7.684336251292358, 3.8178858599760073, 3.3723565114029963, -5.967522366582074, 7.057544364265517, 1.4067577003280007, 4.842423412955899]\n",
      "solution 8: [-4.172509012303247, -4.147505857656726, 1.6150345738523502, 5.342983172660922, 1.5971225008903254, 4.891741959517187, 9.615013685896365, 2.1747805063487498, -3.354139191820016, 3.318240180605711]\n",
      "solution 9: [-1.3771430510630704, -5.449965670352002, -5.86527346728384, 3.438148567037839, 8.359193124200704, 7.465451403702261, 2.429822122207746, 2.097715961542523, -2.1511438439904236, -3.8135148268596915]\n",
      "solution 10: [9.527410362658195, 9.475524547116404, -4.128845927011038, 7.1594824028442545, 6.683752279598913, -6.10297276057449, 5.62921892438589, -3.227473667850102, 6.223384953619419, 1.89733300526858]\n",
      "fitness values 1: 1.0943203069234397\n",
      "fitness values 2: 1.0738929074177328\n",
      "fitness values 3: 1.0542927494523313\n",
      "fitness values 4: 1.0653343486148312\n",
      "fitness values 5: 1.0931083452945938\n",
      "fitness values 6: 1.081787545439022\n",
      "fitness values 7: 1.0508999662981173\n",
      "fitness values 8: 1.064437920093869\n",
      "fitness values 9: 1.0602964558501415\n",
      "fitness values 10: 1.1450856567720291\n",
      "strenght: [0.09848299917633607, 0.10035632523594537, 0.10222203077975521, 0.10116255617357703, 0.0985921901971614, 0.09962394773333415, 0.10255204999675147, 0.10124775137274791, 0.10164321996057021, 0.0941169293738214]\n",
      "parent1: 4\n",
      "parent2: 4\n"
     ]
    }
   ],
   "source": [
    "population = []\n",
    "solution = []\n",
    "dimension = 10\n",
    "pop_size = 5\n",
    "\n",
    "# generate population\n",
    "for j in range(dimension):\n",
    "    solution = []\n",
    "    for i in range(dimension):\n",
    "        solution.append(griewank.random_decision(-10, 10))\n",
    "\n",
    "    population.append(solution)\n",
    "    print(f\"solution {j+1}: {population[j]}\")\n",
    "\n",
    "dimension = len(population)\n",
    "sol_fit = []\n",
    "for i in range(dimension):\n",
    "    sol_fit.append(griewank.griewank(population[i]))\n",
    "    print(f\"fitness values {i + 1}: {sol_fit[i]}\")\n",
    "\n",
    "for_roulette = griewank.strength(sol_fit, griewank.optimal_function)\n",
    "print(f\"strenght: {for_roulette}\")\n",
    "\n",
    "\n",
    "percent = ga_func.generate_wheel(for_roulette)\n",
    "parent1 = ga_func.select_parent(random.random(), percent)\n",
    "parent2 = ga_func.select_parent(random.random(), percent)\n",
    "print(f\"parent1: {parent1}\")\n",
    "print(f\"parent2: {parent2}\")"
   ]
  },
  {
   "cell_type": "code",
   "execution_count": 7,
   "metadata": {},
   "outputs": [
    {
     "name": "stdout",
     "output_type": "stream",
     "text": [
      "parent 1: [-3.835331325245197, 6.3916879512968165, -3.2395820290227073, -1.7934013411101333, -2.7401149380003726, -7.728512675473931, 0.9032634257644787, -3.0635673779555965, -7.382224107098779, 8.447721407086838]\n",
      "parent 2: [-3.835331325245197, 6.3916879512968165, -3.2395820290227073, -1.7934013411101333, -2.7401149380003726, -7.728512675473931, 0.9032634257644787, -3.0635673779555965, -7.382224107098779, 8.447721407086838]\n",
      "offspring 1: [-3.835331325245197, 6.3916879512968165, -3.2395820290227073, -1.7934013411101333, -2.7401149380003726, -7.728512675473931, 0.9032634257644787, -3.0635673779555965, -7.382224107098779, 8.447721407086838]\n",
      "offspring 2: [-3.835331325245197, 6.3916879512968165, -3.2395820290227073, -1.7934013411101333, -2.7401149380003726, -7.728512675473931, 0.9032634257644787, -3.0635673779555965, -7.382224107098779, 8.447721407086838]\n"
     ]
    }
   ],
   "source": [
    "print(f\"parent 1: {population[parent1 - 1]}\")\n",
    "print(f\"parent 2: {population[parent2 - 1]}\")\n",
    "offspring1, offspring2 = onepoint_crossover(population[parent1 - 1], population[parent2 - 1])\n",
    "print(f\"offspring 1: {offspring1}\")\n",
    "print(f\"offspring 2: {offspring2}\")"
   ]
  },
  {
   "cell_type": "code",
   "execution_count": 8,
   "metadata": {},
   "outputs": [
    {
     "name": "stdout",
     "output_type": "stream",
     "text": [
      "parent 1: [-3.835331325245197, 6.3916879512968165, -3.2395820290227073, -1.7934013411101333, -2.7401149380003726, -7.728512675473931, 0.9032634257644787, -3.0635673779555965, -7.382224107098779, 8.447721407086838]\n",
      "parent 2: [-3.835331325245197, 6.3916879512968165, -3.2395820290227073, -1.7934013411101333, -2.7401149380003726, -7.728512675473931, 0.9032634257644787, -3.0635673779555965, -7.382224107098779, 8.447721407086838]\n",
      "offspring 1: None\n",
      "offspring 2: None\n"
     ]
    }
   ],
   "source": [
    "print(f\"parent 1: {population[parent1 - 1]}\")\n",
    "print(f\"parent 2: {population[parent2 - 1]}\")\n",
    "offspring1 = uniform_crossover(population[parent1 - 1], population[parent2 - 1])\n",
    "offspring2 = uniform_crossover(population[parent1 - 1], population[parent2 - 1])\n",
    "print(f\"offspring 1: {offspring1}\")\n",
    "print(f\"offspring 2: {offspring2}\")"
   ]
  }
 ],
 "metadata": {
  "kernelspec": {
   "display_name": "Python 3 (ipykernel)",
   "language": "python",
   "name": "python3"
  },
  "language_info": {
   "codemirror_mode": {
    "name": "ipython",
    "version": 3
   },
   "file_extension": ".py",
   "mimetype": "text/x-python",
   "name": "python",
   "nbconvert_exporter": "python",
   "pygments_lexer": "ipython3",
   "version": "3.12.5"
  }
 },
 "nbformat": 4,
 "nbformat_minor": 4
}
